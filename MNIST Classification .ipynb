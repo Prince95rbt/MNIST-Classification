{
 "cells": [
  {
   "cell_type": "code",
   "execution_count": 1,
   "id": "02bd972c",
   "metadata": {},
   "outputs": [],
   "source": [
    "from keras.datasets import mnist\n",
    "import matplotlib.pyplot as plt\n",
    "from tensorflow.keras.utils import to_categorical"
   ]
  },
  {
   "cell_type": "code",
   "execution_count": 2,
   "id": "1603dc21",
   "metadata": {},
   "outputs": [],
   "source": [
    "from keras.datasets import mnist"
   ]
  },
  {
   "cell_type": "code",
   "execution_count": 3,
   "id": "6f980c35",
   "metadata": {},
   "outputs": [],
   "source": [
    "(x_train, y_train), (x_test, y_test) = mnist.load_data()"
   ]
  },
  {
   "cell_type": "code",
   "execution_count": 4,
   "id": "090681e5",
   "metadata": {},
   "outputs": [
    {
     "data": {
      "text/plain": [
       "(60000, 28, 28)"
      ]
     },
     "execution_count": 4,
     "metadata": {},
     "output_type": "execute_result"
    }
   ],
   "source": [
    "x_train.shape"
   ]
  },
  {
   "cell_type": "code",
   "execution_count": 5,
   "id": "27a9825e",
   "metadata": {},
   "outputs": [
    {
     "data": {
      "image/png": "[encoded data removed]",
      "text/plain": [
       "<Figure size 144x144 with 1 Axes>"
      ]
     },
     "metadata": {
      "needs_background": "light"
     },
     "output_type": "display_data"
    }
   ],
   "source": [
    "img_id = 0\n",
    "plt.figure(figsize=(2,2))\n",
    "plt.imshow(x_train[img_id], cmap='gray')\n",
    "plt.title(f\"Actual Label : {y_train[img_id]}\")\n",
    "plt.show()"
   ]
  },
  {
   "cell_type": "code",
   "execution_count": 6,
   "id": "c0c3ac25",
   "metadata": {},
   "outputs": [],
   "source": [
    "# Converting the dataset (60000, 28, 28) into a flattend array of size (60000,784) \n",
    "\n",
    "x_train = x_train.reshape((60000, 28*28))\n",
    "x_test = x_test.reshape((10000, 28*28))"
   ]
  },
  {
   "cell_type": "code",
   "execution_count": 7,
   "id": "25b234dd",
   "metadata": {},
   "outputs": [
    {
     "data": {
      "text/plain": [
       "(60000, 784)"
      ]
     },
     "execution_count": 7,
     "metadata": {},
     "output_type": "execute_result"
    }
   ],
   "source": [
    "x_train.shape"
   ]
  },
  {
   "cell_type": "code",
   "execution_count": 8,
   "id": "251b13f2",
   "metadata": {
    "scrolled": true
   },
   "outputs": [
    {
     "data": {
      "text/plain": [
       "(10000, 784)"
      ]
     },
     "execution_count": 8,
     "metadata": {},
     "output_type": "execute_result"
    }
   ],
   "source": [
    "x_test.shape"
   ]
  },
  {
   "cell_type": "code",
   "execution_count": 9,
   "id": "30bf4231",
   "metadata": {},
   "outputs": [],
   "source": [
    "# One hot encoding Target variables\n",
    "y_train_ohe = to_categorical(y_train)\n",
    "y_test_ohe = to_categorical(y_test)"
   ]
  },
  {
   "cell_type": "markdown",
   "id": "4471ecb6",
   "metadata": {},
   "source": [
    "### Build Neural Network"
   ]
  },
  {
   "cell_type": "code",
   "execution_count": 10,
   "id": "4ed803e5",
   "metadata": {},
   "outputs": [],
   "source": [
    "from keras.models import Sequential \n",
    "from keras.layers import Dense"
   ]
  },
  {
   "cell_type": "code",
   "execution_count": 11,
   "id": "ecfea0dd",
   "metadata": {},
   "outputs": [],
   "source": [
    "model = Sequential()\n",
    "model.add(Dense(392, input_dim = 784))\n",
    "model.add(Dense(196, activation='relu'))\n",
    "model.add(Dense(10, activation='softmax')) # Because multilclass classification problem"
   ]
  },
  {
   "cell_type": "code",
   "execution_count": 12,
   "id": "d4352569",
   "metadata": {},
   "outputs": [
    {
     "name": "stdout",
     "output_type": "stream",
     "text": [
      "Model: \"sequential\"\n",
      "_________________________________________________________________\n",
      " Layer (type)                Output Shape              Param #   \n",
      "=================================================================\n",
      " dense (Dense)               (None, 392)               307720    \n",
      "                                                                 \n",
      " dense_1 (Dense)             (None, 196)               77028     \n",
      "                                                                 \n",
      " dense_2 (Dense)             (None, 10)                1970      \n",
      "                                                                 \n",
      "=================================================================\n",
      "Total params: 386,718\n",
      "Trainable params: 386,718\n",
      "Non-trainable params: 0\n",
      "_________________________________________________________________\n"
     ]
    }
   ],
   "source": [
    "model.summary()"
   ]
  },
  {
   "cell_type": "code",
   "execution_count": 13,
   "id": "140af860",
   "metadata": {},
   "outputs": [],
   "source": [
    "model.compile(optimizer='adagrad',\n",
    "             loss='categorical_crossentropy',\n",
    "             metrics = ['accuracy'])"
   ]
  },
  {
   "cell_type": "code",
   "execution_count": 14,
   "id": "f695b5cc",
   "metadata": {
    "scrolled": true
   },
   "outputs": [
    {
     "name": "stdout",
     "output_type": "stream",
     "text": [
      "Epoch 1/30\n",
      "30/30 [==============================] - 2s 35ms/step - loss: 24.5561 - accuracy: 0.6654 - val_loss: 7.9738 - val_accuracy: 0.8085\n",
      "Epoch 2/30\n",
      "30/30 [==============================] - 1s 31ms/step - loss: 6.6643 - accuracy: 0.8310 - val_loss: 5.6762 - val_accuracy: 0.8518\n",
      "Epoch 3/30\n",
      "30/30 [==============================] - 1s 30ms/step - loss: 4.9637 - accuracy: 0.8610 - val_loss: 4.6844 - val_accuracy: 0.8682\n",
      "Epoch 4/30\n",
      "30/30 [==============================] - 1s 28ms/step - loss: 4.1041 - accuracy: 0.8783 - val_loss: 4.1286 - val_accuracy: 0.8793\n",
      "Epoch 5/30\n",
      "30/30 [==============================] - 1s 28ms/step - loss: 3.5690 - accuracy: 0.8893 - val_loss: 3.7526 - val_accuracy: 0.8866\n",
      "Epoch 6/30\n",
      "30/30 [==============================] - 1s 29ms/step - loss: 3.1827 - accuracy: 0.8966 - val_loss: 3.4457 - val_accuracy: 0.8929\n",
      "Epoch 7/30\n",
      "30/30 [==============================] - 1s 29ms/step - loss: 2.8739 - accuracy: 0.9036 - val_loss: 3.2531 - val_accuracy: 0.8960\n",
      "Epoch 8/30\n",
      "30/30 [==============================] - 1s 30ms/step - loss: 2.6406 - accuracy: 0.9090 - val_loss: 3.0823 - val_accuracy: 0.9012\n",
      "Epoch 9/30\n",
      "30/30 [==============================] - 1s 28ms/step - loss: 2.4421 - accuracy: 0.9135 - val_loss: 2.9312 - val_accuracy: 0.9041\n",
      "Epoch 10/30\n",
      "30/30 [==============================] - 1s 30ms/step - loss: 2.2768 - accuracy: 0.9172 - val_loss: 2.7918 - val_accuracy: 0.9042\n",
      "Epoch 11/30\n",
      "30/30 [==============================] - 1s 31ms/step - loss: 2.1317 - accuracy: 0.9207 - val_loss: 2.6996 - val_accuracy: 0.9079\n",
      "Epoch 12/30\n",
      "30/30 [==============================] - 1s 30ms/step - loss: 2.0042 - accuracy: 0.9229 - val_loss: 2.6344 - val_accuracy: 0.9090\n",
      "Epoch 13/30\n",
      "30/30 [==============================] - 1s 31ms/step - loss: 1.8933 - accuracy: 0.9252 - val_loss: 2.5373 - val_accuracy: 0.9101\n",
      "Epoch 14/30\n",
      "30/30 [==============================] - 1s 28ms/step - loss: 1.7961 - accuracy: 0.9275 - val_loss: 2.4687 - val_accuracy: 0.9103\n",
      "Epoch 15/30\n",
      "30/30 [==============================] - 1s 30ms/step - loss: 1.7036 - accuracy: 0.9300 - val_loss: 2.4269 - val_accuracy: 0.9124\n",
      "Epoch 16/30\n",
      "30/30 [==============================] - 1s 29ms/step - loss: 1.6227 - accuracy: 0.9322 - val_loss: 2.3614 - val_accuracy: 0.9130\n",
      "Epoch 17/30\n",
      "30/30 [==============================] - 1s 30ms/step - loss: 1.5564 - accuracy: 0.9338 - val_loss: 2.3048 - val_accuracy: 0.9140\n",
      "Epoch 18/30\n",
      "30/30 [==============================] - 1s 30ms/step - loss: 1.4867 - accuracy: 0.9354 - val_loss: 2.2683 - val_accuracy: 0.9154\n",
      "Epoch 19/30\n",
      "30/30 [==============================] - 1s 31ms/step - loss: 1.4239 - accuracy: 0.9376 - val_loss: 2.2261 - val_accuracy: 0.9151\n",
      "Epoch 20/30\n",
      "30/30 [==============================] - 1s 29ms/step - loss: 1.3656 - accuracy: 0.9384 - val_loss: 2.1767 - val_accuracy: 0.9174\n",
      "Epoch 21/30\n",
      "30/30 [==============================] - 1s 30ms/step - loss: 1.3127 - accuracy: 0.9402 - val_loss: 2.1442 - val_accuracy: 0.9170\n",
      "Epoch 22/30\n",
      "30/30 [==============================] - 1s 30ms/step - loss: 1.2651 - accuracy: 0.9419 - val_loss: 2.1009 - val_accuracy: 0.9188\n",
      "Epoch 23/30\n",
      "30/30 [==============================] - 1s 29ms/step - loss: 1.2180 - accuracy: 0.9429 - val_loss: 2.0801 - val_accuracy: 0.9192\n",
      "Epoch 24/30\n",
      "30/30 [==============================] - 1s 28ms/step - loss: 1.1775 - accuracy: 0.9442 - val_loss: 2.0537 - val_accuracy: 0.9195\n",
      "Epoch 25/30\n",
      "30/30 [==============================] - 1s 27ms/step - loss: 1.1332 - accuracy: 0.9458 - val_loss: 2.0399 - val_accuracy: 0.9198\n",
      "Epoch 26/30\n",
      "30/30 [==============================] - 1s 28ms/step - loss: 1.0963 - accuracy: 0.9467 - val_loss: 2.0008 - val_accuracy: 0.9207\n",
      "Epoch 27/30\n",
      "30/30 [==============================] - 1s 29ms/step - loss: 1.0580 - accuracy: 0.9475 - val_loss: 1.9810 - val_accuracy: 0.9210\n",
      "Epoch 28/30\n",
      "30/30 [==============================] - 1s 30ms/step - loss: 1.0318 - accuracy: 0.9485 - val_loss: 1.9472 - val_accuracy: 0.9214\n",
      "Epoch 29/30\n",
      "30/30 [==============================] - 1s 32ms/step - loss: 0.9918 - accuracy: 0.9501 - val_loss: 1.9446 - val_accuracy: 0.9218\n",
      "Epoch 30/30\n",
      "30/30 [==============================] - 1s 30ms/step - loss: 0.9620 - accuracy: 0.9506 - val_loss: 1.9170 - val_accuracy: 0.9220\n"
     ]
    },
    {
     "data": {
      "text/plain": [
       "<keras.callbacks.History at 0x1bd1670fd00>"
      ]
     },
     "execution_count": 14,
     "metadata": {},
     "output_type": "execute_result"
    }
   ],
   "source": [
    "model.fit(x=x_train,\n",
    "         y=y_train_ohe,\n",
    "         batch_size=2000,\n",
    "         epochs=30,\n",
    "         validation_data=(x_test,y_test_ohe))"
   ]
  },
  {
   "cell_type": "code",
   "execution_count": 15,
   "id": "89dffa80",
   "metadata": {
    "scrolled": false
   },
   "outputs": [
    {
     "data": {
      "image/png": "[encoded data removed]",
      "text/plain": [
       "<Figure size 432x288 with 1 Axes>"
      ]
     },
     "metadata": {
      "needs_background": "light"
     },
     "output_type": "display_data"
    }
   ],
   "source": [
    "plt.plot(model.history.history['val_accuracy'])\n",
    "plt.plot(model.history.history['accuracy'])\n",
    "plt.legend(['VAL-ACC', 'TRAIN-ACC'])\n",
    "plt.title(\"Accuracy Measure\")\n",
    "plt.xlabel(\"EPOCH #\")\n",
    "plt.ylabel(\"Accuracy\")\n",
    "# plt.xticks(ticks = range(0,30), labels = range(1,31))\n",
    "plt.grid()\n",
    "plt.show()"
   ]
  },
  {
   "cell_type": "code",
   "execution_count": 16,
   "id": "1ec082b4",
   "metadata": {},
   "outputs": [
    {
     "data": {
      "image/png": "[encoded data removed]",
      "text/plain": [
       "<Figure size 432x288 with 1 Axes>"
      ]
     },
     "metadata": {
      "needs_background": "light"
     },
     "output_type": "display_data"
    }
   ],
   "source": [
    "plt.plot(model.history.history['val_loss'])\n",
    "plt.plot(model.history.history['loss'])\n",
    "plt.legend(['VAL-LOSS', 'TRAIN-LOSS'])\n",
    "plt.title(\"LOSS\")\n",
    "plt.xlabel(\"EPOCH #\")\n",
    "plt.ylabel(\"Loss\")\n",
    "plt.grid()\n",
    "plt.show()"
   ]
  },
  {
   "cell_type": "markdown",
   "id": "2a3d59b7",
   "metadata": {},
   "source": [
    "#### Predictions"
   ]
  },
  {
   "cell_type": "code",
   "execution_count": 17,
   "id": "9a9a6248",
   "metadata": {},
   "outputs": [],
   "source": [
    "import numpy as np"
   ]
  },
  {
   "cell_type": "code",
   "execution_count": 18,
   "id": "34ca0301",
   "metadata": {},
   "outputs": [
    {
     "data": {
      "text/plain": [
       "(1, 784)"
      ]
     },
     "execution_count": 18,
     "metadata": {},
     "output_type": "execute_result"
    }
   ],
   "source": [
    "x_test[500].reshape(-1,784).shape"
   ]
  },
  {
   "cell_type": "code",
   "execution_count": 19,
   "id": "825ac213",
   "metadata": {},
   "outputs": [],
   "source": [
    "pred = model.predict(x_test[500].reshape(-1,784))"
   ]
  },
  {
   "cell_type": "code",
   "execution_count": 20,
   "id": "ae3a67f3",
   "metadata": {},
   "outputs": [
    {
     "data": {
      "text/plain": [
       "array([[0., 0., 0., 1., 0., 0., 0., 0., 0., 0.]], dtype=float32)"
      ]
     },
     "execution_count": 20,
     "metadata": {},
     "output_type": "execute_result"
    }
   ],
   "source": [
    "pred"
   ]
  },
  {
   "cell_type": "code",
   "execution_count": 21,
   "id": "ac9c199b",
   "metadata": {},
   "outputs": [
    {
     "data": {
      "text/plain": [
       "3"
      ]
     },
     "execution_count": 21,
     "metadata": {},
     "output_type": "execute_result"
    }
   ],
   "source": [
    "np.argmax(pred)"
   ]
  },
  {
   "cell_type": "code",
   "execution_count": 34,
   "id": "4b7f3dc0",
   "metadata": {},
   "outputs": [
    {
     "data": {
      "image/png": "[encoded data removed]",
      "text/plain": [
       "<Figure size 432x288 with 1 Axes>"
      ]
     },
     "metadata": {
      "needs_background": "light"
     },
     "output_type": "display_data"
    }
   ],
   "source": [
    "plt.imshow(x_test[500].reshape(28,28), cmap='gray')\n",
    "plt.show()"
   ]
  },
  {
   "cell_type": "code",
   "execution_count": null,
   "id": "8b4cbf7b",
   "metadata": {},
   "outputs": [],
   "source": []
  }
 ],
 "metadata": {
  "kernelspec": {
   "display_name": "Python 3",
   "language": "python",
   "name": "python3"
  },
  "language_info": {
   "codemirror_mode": {
    "name": "ipython",
    "version": 3
   },
   "file_extension": ".py",
   "mimetype": "text/x-python",
   "name": "python",
   "nbconvert_exporter": "python",
   "pygments_lexer": "ipython3",
   "version": "3.8.8"
  }
 },
 "nbformat": 4,
 "nbformat_minor": 5
}
